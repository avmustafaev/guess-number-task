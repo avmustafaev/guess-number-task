{
 "cells": [
  {
   "cell_type": "markdown",
   "metadata": {},
   "source": [
    "# Игра угадай число"
   ]
  },
  {
   "cell_type": "markdown",
   "metadata": {},
   "source": [
    "Проект состоит из двух функций, одна их которых принимает на вход угадываемое число и дапазон в котором необходимо находится угадываемое число, вторая функция принимает на вход первую функцию, генерирует массив из 1000 угадываемых чисел, в заданном диапазоне, и 1000 раз прогоняет основную функцию и усредняет количество попыток."
   ]
  },
  {
   "cell_type": "code",
   "execution_count": 5,
   "metadata": {},
   "outputs": [],
   "source": [
    "from game_predict_number import number_predict as predictor\n",
    "from score_game import score_game as scoring\n",
    "import numpy as np"
   ]
  },
  {
   "cell_type": "markdown",
   "metadata": {},
   "source": [
    "## Угадываем рандомно"
   ]
  },
  {
   "cell_type": "markdown",
   "metadata": {},
   "source": [
    "В следующем окне Вы можете изменять значение диапазона и изучать с каким минимальным количеством попыток, алгоритм угадывает число"
   ]
  },
  {
   "cell_type": "code",
   "execution_count": 6,
   "metadata": {},
   "outputs": [
    {
     "name": "stdout",
     "output_type": "stream",
     "text": [
      "Число 946: отгадано за 14 попыток.\n"
     ]
    }
   ],
   "source": [
    "min_range = 1\n",
    "max_range = 10001\n",
    "random_number = np.random.randint(min_range, max_range) # Загадываем случайное число в рамках диапазона\n",
    "counter = predictor(random_number, min_range, max_range) \n",
    "print(f\"Число {random_number}: отгадано за {counter} попыток.\")\n"
   ]
  },
  {
   "cell_type": "markdown",
   "metadata": {},
   "source": [
    "# Узнаём среднее число попыток!"
   ]
  },
  {
   "cell_type": "markdown",
   "metadata": {},
   "source": [
    "Интересно менять размер диапазона и смотреть среднее количество попыток"
   ]
  },
  {
   "cell_type": "code",
   "execution_count": 7,
   "metadata": {},
   "outputs": [
    {
     "name": "stdout",
     "output_type": "stream",
     "text": [
      "Ваш алгоритм угадывает число в среднем за: 5 попыток\n"
     ]
    }
   ],
   "source": [
    "mean_score = scoring(predictor, 1, 101)\n",
    "print(f'Ваш алгоритм угадывает число в среднем за: {mean_score} попыток')"
   ]
  },
  {
   "cell_type": "markdown",
   "metadata": {},
   "source": [
    "### Для удобства сделан цикл, заполняете диапазон и получаете ответ, если хотите прекратить введите максимум диапазона равным 0"
   ]
  },
  {
   "cell_type": "code",
   "execution_count": 9,
   "metadata": {},
   "outputs": [
    {
     "name": "stdout",
     "output_type": "stream",
     "text": [
      "1 10001\n",
      "Ваш алгоритм угадывает число в среднем за: 12 попыток\n",
      "1 101\n",
      "Ваш алгоритм угадывает число в среднем за: 5 попыток\n",
      "1 1001\n",
      "Ваш алгоритм угадывает число в среднем за: 9 попыток\n",
      "0 0\n",
      "stop\n"
     ]
    }
   ],
   "source": [
    "input_min = 1\n",
    "input_max = 101\n",
    "while True:\n",
    "    input_min = int(input('Введите минимум диапазона: '))\n",
    "    input_max = int(input('Введите максимум диапазона: '))\n",
    "    print(input_min, input_max)\n",
    "    if input_max==0:\n",
    "        print('stop')\n",
    "        break\n",
    "    mean_score = scoring(predictor, input_min, input_max)\n",
    "    print(f'Ваш алгоритм угадывает число в среднем за: {mean_score} попыток')"
   ]
  }
 ],
 "metadata": {
  "interpreter": {
   "hash": "aee8b7b246df8f9039afb4144a1f6fd8d2ca17a180786b69acc140d282b71a49"
  },
  "kernelspec": {
   "display_name": "Python 3.10.1 64-bit",
   "language": "python",
   "name": "python3"
  },
  "language_info": {
   "codemirror_mode": {
    "name": "ipython",
    "version": 3
   },
   "file_extension": ".py",
   "mimetype": "text/x-python",
   "name": "python",
   "nbconvert_exporter": "python",
   "pygments_lexer": "ipython3",
   "version": "3.10.1"
  },
  "orig_nbformat": 4
 },
 "nbformat": 4,
 "nbformat_minor": 2
}
